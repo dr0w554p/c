{
 "cells": [
  {
   "cell_type": "code",
   "execution_count": 1,
   "id": "d7aee039",
   "metadata": {
    "scrolled": true
   },
   "outputs": [
    {
     "name": "stdout",
     "output_type": "stream",
     "text": [
      "{'Raj': 'Y', \"Sister['Y']\": 'X'}\n",
      "\n",
      "{'Raj': 'Y', 'Seeta': 'X'}\n",
      "\n",
      "Ambigious Variable\n",
      "False\n"
     ]
    }
   ],
   "source": [
    "import random\n",
    "class Variable:\n",
    "    def __init__(self,value):\n",
    "        self.value = value\n",
    "    def __eq__(self, other):\n",
    "        return self.value == other.value\n",
    "class Constant:\n",
    "    def __init__(self,value):\n",
    "        self.value = value\n",
    "    def __eq__(self, other):\n",
    "        return self.value == other.value\n",
    "class Rel:\n",
    "    def __init__(self,name,args):\n",
    "        #This is a list\n",
    "        self.name = name\n",
    "        self.value = str(self.name)+str([i.value for i in args])\n",
    "        self.args = args\n",
    "\n",
    "\n",
    "\n",
    "def Unify(L1,L2,testset):\n",
    "    '''\n",
    "    L1 and L2 are Rel types, variables or constants\n",
    "    '''\n",
    "    #If both are variable or constants\n",
    "    if(isinstance(L1,Variable) or isinstance(L2,Variable) or isinstance(L1,Constant) or isinstance(L2,Constant)):\n",
    "        if L1 == L2:\n",
    "            return None\n",
    "        elif isinstance(L1,Variable):\n",
    "            if isinstance(L2,Variable):\n",
    "                print(\"Both missmatching variables\")\n",
    "                return False\n",
    "            else:\n",
    "                if L1.value not in testset.values():\n",
    "                    return [L2,L1]\n",
    "                else:\n",
    "                    print(\"Ambigious Variable\")\n",
    "                    return False\n",
    "        elif isinstance(L2,Variable):\n",
    "            if isinstance(L1,Variable):\n",
    "                print(\"Both missmatching variables\")\n",
    "                return False\n",
    "            else:\n",
    "                if L2.value not in testset.values():\n",
    "                    return [L1,L2]\n",
    "                else:\n",
    "                    print(\"Ambigious Variable\")\n",
    "                    return False\n",
    "        else:\n",
    "            print(\"Missmatch\")\n",
    "            return False\n",
    "\n",
    "    #Ensuring the functions are the same \n",
    "    elif L1.name != L2.name:\n",
    "        print(\"Relation Missmatch\")\n",
    "        return False\n",
    "    #Ensuring the functions have the same number of arguments\n",
    "    elif len(L1.args) != len(L2.args):\n",
    "        print(\"length does not match\")\n",
    "        return False\n",
    "    \n",
    "    SUBSET = {}\n",
    "\n",
    "    for i in range(len(L1.args)):\n",
    "        S = Unify(L1.args[i],L2.args[i],SUBSET)\n",
    "        if S==False:\n",
    "            return False\n",
    "        if S != None:\n",
    "            SUBSET[S[0].value] = S[1].value\n",
    "\n",
    "    return SUBSET\n",
    "\n",
    "\n",
    "if __name__ == \"__main__\":\n",
    "\n",
    "    print(Unify(Rel(\"Plays\",[Constant(\"Sachin\"),Variable(\"X\")]),Rel(\"Knows\",[Variable(\"Y\"),Rel(\"Sister\",[Variable(\"Y\")])]),{}))\n",
    "    print()\n",
    "    print(Unify(Rel(\"Knows\",[Constant(\"Raj\"),Variable(\"X\")]),Rel(\"Knows\",[Variable(\"Y\"),Constant(\"Seeta\")]),{}))\n",
    "    print()\n",
    "    print(Unify(Rel(\"Knows\",[Constant(\"Raj\"),Variable(\"X\")]),Rel(\"Knows\",[Variable(\"X\"),Constant(\"Seeta\")]),{})) "
   ]
  }
 ],
 "metadata": {
  "kernelspec": {
   "display_name": "Python 3 (ipykernel)",
   "language": "python",
   "name": "python3"
  },
  "language_info": {
   "codemirror_mode": {
    "name": "ipython",
    "version": 3
   },
   "file_extension": ".py",
   "mimetype": "text/x-python",
   "name": "python",
   "nbconvert_exporter": "python",
   "pygments_lexer": "ipython3",
   "version": "3.9.12"
  }
 },
 "nbformat": 4,
 "nbformat_minor": 5
}
